{
 "cells": [
  {
   "cell_type": "markdown",
   "id": "27195881-f9f6-4dde-b159-f0d2830edd11",
   "metadata": {},
   "source": [
    "# Qu'est ce que FastAPI ?\n",
    "D'après la [tres bonne doc officielle](https://fastapi.tiangolo.com/), FastAPI est \"un framework web moderne, rapide pour construire des APIs python 3.7+ se basant sur les indices de typage standard python\".  \n",
    "Il est rapide (comparable à go et NodeJS), permet de developper rapidement, simple, et fourni plusieurs d'outils assez pratiques.\n"
   ]
  },
  {
   "cell_type": "markdown",
   "id": "a2cdcceb-93b3-4f0f-bd51-81385ad9ed35",
   "metadata": {},
   "source": [
    "# Pourquoi FastAPI plutot que d'autres web servers ?\n",
    "\n",
    "- bien plus léger que [Django Rest Framework](https://www.django-rest-framework.org/)\n",
    "- plus performant que [flask](https://flask.palletsprojects.com/en/2.2.x/), profite du typage pour la doc et la validation automatique de la donnée d'entrée via [pydantic](https://pydantic-docs.helpmanual.io/).\n",
    "- rajoute des utilitaires pratiques au dessus de [starlette](https://www.starlette.io/)."
   ]
  },
  {
   "cell_type": "markdown",
   "id": "fa4597c1-239f-4ed7-94cf-e606c8d0c551",
   "metadata": {},
   "source": [
    "# Création de l'environnement virtuel\n",
    "\n",
    "```bash\n",
    "poetry init \n",
    "poetry add pandas fastapi[all] elasticsearch[async]==7.13 requests pyYAML\n",
    "```\n",
    "\n",
    "L'arborescence du projet est alors:\n",
    "```\n",
    "tp_fast_api/   \n",
    "├── .venv/\n",
    "├── poetry.lock\n",
    "└── pyproject.toml\n",
    "```\n",
    "# Squelette de base \n"
   ]
  },
  {
   "cell_type": "code",
   "execution_count": null,
   "id": "61aad3a6-f2fd-4e7c-942c-20f17739acf7",
   "metadata": {},
   "outputs": [],
   "source": [
    "from fastapi import FastAPI\n",
    "\n",
    "app = FastAPI(debug=True)\n",
    "\n",
    "@app.post(\"/get_ecrans/\") # on fait un post pour simplifier l'envoi de données: dans le body directement\n",
    "def get_ecrans(): \n",
    "    return {\"ecrans\": [\"ecran1\", \"ecran2\"]}"
   ]
  },
  {
   "cell_type": "markdown",
   "id": "5d4eb6e4-5389-4649-b91b-625516b1ec5b",
   "metadata": {},
   "source": [
    "Lancer le serveur web avec guvicorn, apres avoir lancé l'environnement virtuel:\n",
    "```bash\n",
    "poetry shell\n",
    "uvicorn tp_fast_api.main:app --reload\n",
    "```\n",
    "Puis aller sur http://127.0.0.1:8000/docs"
   ]
  },
  {
   "cell_type": "markdown",
   "id": "9469ae0a-d255-4c16-a1aa-7d453d37eaa2",
   "metadata": {},
   "source": [
    "# Ajout des parametres\n",
    "On va maintenant ajouter des parametres: l'utilisateur sur lequel on veut requeter, une date min et une date max:"
   ]
  },
  {
   "cell_type": "code",
   "execution_count": null,
   "id": "f9f8ea7f-8d61-4069-8f93-e8bd1db8ab2a",
   "metadata": {},
   "outputs": [],
   "source": [
    "# main.py\n",
    "from datetime import datetime\n",
    "\n",
    "from fastapi import FastAPI\n",
    "from pydantic import BaseModel\n",
    "\n",
    "from tp_fast_api.data_collect import extract_ecrans\n",
    "\n",
    "\n",
    "class Users(BaseModel):\n",
    "    utils: list[str]\n",
    "    date_min: datetime\n",
    "    date_max: datetime\n",
    "\n",
    "\n",
    "app = FastAPI(debug=True)\n",
    "\n",
    "\n",
    "@app.post(\"/get_ecrans/\")\n",
    "def get_ecrans(users: Users):\n",
    "    return {\"ecrans\": [\"ecran1\", \"ecran2\"], \"users\": users.utils}"
   ]
  },
  {
   "cell_type": "markdown",
   "id": "2b96437d-d274-423a-addd-9873a3a2b7ed",
   "metadata": {},
   "source": [
    "On a utilisé pour cela [pydantic](https://pydantic-docs.helpmanual.io/).  \n",
    "Essayer d'envoyer le body suivant:\n",
    "```\n",
    "{\n",
    " \"utils\": [\"util\"],\n",
    " \"date_min\": \"2022-09-22 11:00Z\",\n",
    " \"date_max\": \"2022-09-28T12:00+02:00\"\n",
    "}\n",
    "```\n",
    "On obtient un 200:\n",
    "```json\n",
    "{\n",
    "  \"ecrans\": [\n",
    "    \"ecran1\",\n",
    "    \"ecran2\"\n",
    "  ],\n",
    "  \"users\": {\n",
    "    \"utils\": [\n",
    "      \"rma\"\n",
    "    ],\n",
    "    \"date_min\": \"2022-09-22T11:00:00+00:00\",\n",
    "    \"date_max\": \"2022-09-28T12:00:00+02:00\"\n",
    "  }\n",
    "}\n",
    "```\n",
    "\n",
    "\n",
    "On se rend compte que les dates ont été automatiquement parsées dans le bon type (bien que deux formats différents aient été envoyés)  \n",
    "Pour la liste des types de date pris en charge par pydantic: https://pydantic-docs.helpmanual.io/usage/types/#datetime-types\n",
    "\n",
    "Maintenant essayer de lancer avec une date dans un format inconnu, et \"utils\" mal écrit:\n",
    "```\n",
    "{\n",
    " \"util\": [\"rma\"],\n",
    " \"date_min\": \"2022-09-22 11:00Z\",\n",
    " \"date_max\": \"2022-09-28 / 12:00+02:00\"\n",
    "}\n",
    "```\n",
    "On obtient un 422: \n",
    "```json\n",
    "{\n",
    "  \"detail\": [\n",
    "    {\n",
    "      \"loc\": [\n",
    "        \"body\",\n",
    "        \"utils\"\n",
    "      ],\n",
    "      \"msg\": \"field required\",\n",
    "      \"type\": \"value_error.missing\"\n",
    "    },\n",
    "    {\n",
    "      \"loc\": [\n",
    "        \"body\",\n",
    "        \"date_max\"\n",
    "      ],\n",
    "      \"msg\": \"invalid datetime format\",\n",
    "      \"type\": \"value_error.datetime\"\n",
    "    }\n",
    "  ]\n",
    "}\n",
    "```\n",
    "Avec uniquement ces quelques lignes en plus, on a:\n",
    "- une lecture du body\n",
    "- une convertion et validation de type\n",
    "- une gestion des erreurs parlantes en cas de probleme\n",
    "- un support de l'IDE pour l'autocompletion du body d'entrée qu'on souhaite manipuler\n",
    "- une documentation directe dans OpenAPI pour l'utilisateur\n",
    "\n",
    "L'arborescence du projet est alors:\n",
    "```\n",
    "tp_fast_api/   \n",
    "├── .venv/\n",
    "├── poetry.lock\n",
    "├── pyproject.toml\n",
    "└── tp_fast_api/\n",
    "    └── main.py\n",
    "```"
   ]
  },
  {
   "cell_type": "markdown",
   "id": "3490501f-4a9e-44d7-aff1-8699ab73da78",
   "metadata": {},
   "source": [
    "# Requetage sur elastic\n",
    "On crée un dossier config/ à la racine, qui va contenir les credentials (en YAML). On y mettra tous les tokens et clés qui ne doivent pas être commit.\n",
    "On y met notamment ici les tokens d'accès à elastic.\n",
    "\n",
    "```yml\n",
    "# credentials.yml\n",
    "ES_PROD_ID: \"<id>\"\n",
    "ES_PROD_API_KEY: \"<api_key>\"\n",
    "```\n",
    "On rajoute en suite un fichier settings.py permettant d'exposer les variables globales du projet, qui va se charger de créer la connexion à Elastic:"
   ]
  },
  {
   "cell_type": "code",
   "execution_count": null,
   "id": "adabba03-3f48-4c6a-b0eb-4193ca644392",
   "metadata": {},
   "outputs": [],
   "source": [
    "# settings.py\n",
    "import pathlib\n",
    "\n",
    "import yaml\n",
    "from elasticsearch import Elasticsearch\n",
    "\n",
    "CREDENTIAL_PATH = pathlib.Path(__file__).parent.parent / \"config\" / \"credentials.yml\"\n",
    "\n",
    "with open(CREDENTIAL_PATH, \"r\") as f:\n",
    "    credentials = yaml.safe_load(f)\n",
    "\n",
    "URL_ELASTIC_PROD = \"<url_elastic>:9200\"\n",
    "\n",
    "ES_PROD = Elasticsearch(\n",
    "    hosts=[URL_ELASTIC_PROD],\n",
    "    request_timeout=30,\n",
    "    api_key=(credentials[\"ES_PROD_ID\"], credentials[\"ES_PROD_API_KEY\"]),\n",
    ")"
   ]
  },
  {
   "cell_type": "markdown",
   "id": "d3d26d76-e1af-4bfa-9281-d545691e65ce",
   "metadata": {},
   "source": [
    "On créé maintenant une fonction qui va aller directement chercher les données dans elastic, dans un module data_collect.py, à part:"
   ]
  },
  {
   "cell_type": "code",
   "execution_count": null,
   "id": "baf88889-e587-4d1a-9331-76a72cb278f2",
   "metadata": {},
   "outputs": [],
   "source": [
    "# data_collect.py\n",
    "from datetime import datetime\n",
    "\n",
    "from elasticsearch import helpers\n",
    "\n",
    "import tp_fast_api.settings as settings\n",
    "\n",
    "\n",
    "def extract_ecrans(utils: list[str], date_min: datetime, date_max: datetime) -> list[list[str]]:\n",
    "    query = {\n",
    "        \"query\": {\n",
    "            \"bool\": {\n",
    "                \"must\": [{\"terms\": {\"util\": utils}}],\n",
    "                \"filter\": [\n",
    "                    {\n",
    "                        \"range\": {\n",
    "                            \"@timestamp\": {\n",
    "                                \"gte\": date_min.isoformat(),\n",
    "                                \"lte\": date_max.isoformat(),\n",
    "                                \"format\": \"strict_date_optional_time\",\n",
    "                            }\n",
    "                        }\n",
    "                    }\n",
    "                ],\n",
    "            }\n",
    "        }\n",
    "    }\n",
    "\n",
    "    data = []\n",
    "    for doc in helpers.scan(settings.ES_PROD, index=\"<my_index>\", query=query):\n",
    "        doc = doc[\"_source\"]\n",
    "\n",
    "        elt = [\n",
    "            doc.get(\"@timestamp\"],\n",
    "            doc.get(\"util\"),\n",
    "            doc.get(\"ecran\"),\n",
    "            doc.get(\"instance\")\n",
    "        ]\n",
    "        data.append(elt)\n",
    "\n",
    "    return data"
   ]
  },
  {
   "cell_type": "markdown",
   "id": "09baf22c-a604-4214-9219-2f08c2f2ba5c",
   "metadata": {},
   "source": [
    "Puis on met à jour le main pour retourner ces écrans:"
   ]
  },
  {
   "cell_type": "code",
   "execution_count": 1,
   "id": "52f8ecb4-7c20-4999-9b1e-b185b0b83d0b",
   "metadata": {
    "collapsed": true,
    "jupyter": {
     "outputs_hidden": true
    },
    "tags": []
   },
   "outputs": [
    {
     "ename": "ModuleNotFoundError",
     "evalue": "No module named 'fastapi'",
     "output_type": "error",
     "traceback": [
      "\u001b[0;31m---------------------------------------------------------------------------\u001b[0m",
      "\u001b[0;31mModuleNotFoundError\u001b[0m                       Traceback (most recent call last)",
      "\u001b[0;32m<ipython-input-1-d47757ebbc7c>\u001b[0m in \u001b[0;36m<module>\u001b[0;34m\u001b[0m\n\u001b[1;32m      2\u001b[0m \u001b[0;32mfrom\u001b[0m \u001b[0mdatetime\u001b[0m \u001b[0;32mimport\u001b[0m \u001b[0mdatetime\u001b[0m\u001b[0;34m\u001b[0m\u001b[0;34m\u001b[0m\u001b[0m\n\u001b[1;32m      3\u001b[0m \u001b[0;34m\u001b[0m\u001b[0m\n\u001b[0;32m----> 4\u001b[0;31m \u001b[0;32mfrom\u001b[0m \u001b[0mfastapi\u001b[0m \u001b[0;32mimport\u001b[0m \u001b[0mFastAPI\u001b[0m\u001b[0;34m\u001b[0m\u001b[0;34m\u001b[0m\u001b[0m\n\u001b[0m\u001b[1;32m      5\u001b[0m \u001b[0;32mfrom\u001b[0m \u001b[0mpydantic\u001b[0m \u001b[0;32mimport\u001b[0m \u001b[0mBaseModel\u001b[0m\u001b[0;34m\u001b[0m\u001b[0;34m\u001b[0m\u001b[0m\n\u001b[1;32m      6\u001b[0m \u001b[0;34m\u001b[0m\u001b[0m\n",
      "\u001b[0;31mModuleNotFoundError\u001b[0m: No module named 'fastapi'"
     ]
    }
   ],
   "source": [
    "# main.py\n",
    "from datetime import datetime\n",
    "\n",
    "from fastapi import FastAPI\n",
    "from pydantic import BaseModel\n",
    "\n",
    "from tp_fast_api.data_collect import extract_ecrans\n",
    "\n",
    "\n",
    "class Users(BaseModel):\n",
    "    utils: list[str]\n",
    "    date_min: datetime\n",
    "    date_max: datetime\n",
    "\n",
    "\n",
    "app = FastAPI(debug=True)\n",
    "\n",
    "\n",
    "@app.post(\"/get_ecrans/\")\n",
    "def get_ecrans(users: Users):\n",
    "    ecrans = extract_ecrans(users.utils, users.date_min, users.date_max)\n",
    "    return {\"users\": users, \"ecrans\": ecrans}"
   ]
  },
  {
   "cell_type": "markdown",
   "id": "46d91ad2-a3c6-4dc5-a604-4a7071b87287",
   "metadata": {},
   "source": [
    "On peut alors tester l'envoi de requete, et constater qu'on reçoit bien une liste d'écrans:\n",
    "```json\n",
    "{\n",
    "  \"ecrans\": [\n",
    "    [\n",
    "      1663849892657,\n",
    "      \"romain\",\n",
    "      \"connexion\",\n",
    "      \"instance589\",\n",
    "    ],\n",
    "    [...]\n",
    "  ]\n",
    "}\n",
    "```\n",
    "\n",
    "**NB**: le typage des dates s'est effectué automatiquement grâce à pydantic, ça nous a évité la gestion des convertions qui peut s'avérer pénible. \n",
    "\n",
    "\n",
    "L'arborescence est alors:\n",
    "\n",
    "```\n",
    "tp_fast_api\n",
    "├── config\n",
    "│   └── credentials.yml\n",
    "├── poetry.lock        \n",
    "├── pyproject.toml     \n",
    "└── tp_fast_api\n",
    "    ├── data_collect.py\n",
    "    ├── main.py\n",
    "    └── settings.py\n",
    "```"
   ]
  },
  {
   "cell_type": "markdown",
   "id": "1b0b0332-364e-4d78-9002-2cf25865bb5c",
   "metadata": {},
   "source": [
    "# Tests Unitaires\n",
    "On va maintenant tester unitaire notre fonction. Pour cela, on va avoir besoin d'intercepter l'appel à elastic, et de mocker son resultat: l'environnement de test n'a pas forcément accès à elastic, et on ne veut rajouter de la charge potentielle sur le cluster à chaque requete.\n",
    "\n",
    "**NB**: En principe si on suit l'approche TDD on aurait plutôt fait le TU avant d'écrire la fonction extract_ecrans(). \n",
    "\n",
    "On ajoute pytest:\n",
    "```\n",
    "poetry add pytest\n",
    "```\n",
    "\n",
    "Puis on ajoute le test unitaire:"
   ]
  },
  {
   "cell_type": "code",
   "execution_count": null,
   "id": "64a47cd3-6747-4d51-9aaa-e34a1fb9da93",
   "metadata": {},
   "outputs": [],
   "source": [
    "# test_data_collect.py\n",
    "from datetime import datetime\n",
    "from unittest.mock import patch\n",
    "\n",
    "from tp_fast_api.data_collect import extract_ecrans\n",
    "\n",
    "\n",
    "@patch(\"tp_fast_api.data_collect.helpers.scan\")\n",
    "def test_extract_ecrans(mock_scan):\n",
    "    mock_scan.return_value = [\n",
    "        {\n",
    "            \"_index\": \"mon_index\",\n",
    "            \"_type\": \"_doc\",\n",
    "            \"_id\": \"1660119206971bdcad61d5b\",\n",
    "            \"_score\": 2.0,\n",
    "            \"_source\": {\n",
    "                \"ecran\": \"connexion\",\n",
    "                \"instance\": \"instance589\",\n",
    "                \"@timestamp\": 1660119206971,\n",
    "                \"util\": \"romain\"\n",
    "            },\n",
    "        }\n",
    "    ]\n",
    "\n",
    "    # les parametres ici ne sont pas tres important puisque on intercepte la requete\n",
    "    results = extract_ecrans([\"romain\"], datetime.now(), datetime.now())\n",
    "\n",
    "    assert len(results) == 1\n",
    "    assert results[0][1] == \"rma\""
   ]
  },
  {
   "cell_type": "markdown",
   "id": "75355c27-679b-4905-a538-8ce68da0592f",
   "metadata": {},
   "source": [
    "Arborescence:\n",
    "```\n",
    "tp_fast_api\n",
    "├── config\n",
    "│   └── credentials.yml\n",
    "├── tests\n",
    "│   ├── __init__.py\n",
    "│   └── test_data_collect.py\n",
    "├── tp_fast_api\n",
    "│   ├── __init__.py\n",
    "│   ├── data_collect.py\n",
    "│   ├── main.py\n",
    "│   └── settings.py\n",
    "├── poetry.lock\n",
    "└── pyproject.toml\n",
    "```"
   ]
  },
  {
   "attachments": {
    "cd6d1cb5-4fd6-428a-83f4-1a612b3013e1.png": {
     "image/png": "[encoded data removed]"
    }
   },
   "cell_type": "markdown",
   "id": "da090653-cb3b-4ece-a4b1-fb1c66aade42",
   "metadata": {},
   "source": [
    "On lance les tests, avec pytest:\n",
    "```bash\n",
    "pytest .\n",
    "```\n",
    "![image.png](attachment:cd6d1cb5-4fd6-428a-83f4-1a612b3013e1.png)"
   ]
  },
  {
   "cell_type": "markdown",
   "id": "5f903198-3b89-46a3-8f20-9f71a5d22788",
   "metadata": {},
   "source": [
    "# Script de requetage\n",
    "On va ecrire un code permettant de requeter à part notre service, afin notamment de faire un petit benchmark basique par la suite.\n",
    "On lance 100 requetes en asynchrone, avec les mêmes parametres."
   ]
  },
  {
   "cell_type": "code",
   "execution_count": null,
   "id": "e1883aac-dd77-473c-be59-71f81f2c19f8",
   "metadata": {},
   "outputs": [],
   "source": [
    "import asyncio\n",
    "import datetime\n",
    "import time\n",
    "\n",
    "import httpx\n",
    "\n",
    "\n",
    "async def query_api():\n",
    "    body = {\n",
    "        \"date_max\": datetime.datetime.now().isoformat(),\n",
    "        \"date_min\": (datetime.datetime.now() - datetime.timedelta(7)).isoformat(),\n",
    "        \"utils\": [\"util\"],\n",
    "    }\n",
    "    async with httpx.AsyncClient() as client:\n",
    "        await client.post(\"http://127.0.0.1:8000/get_ecrans/\", json=body, timeout=None)\n",
    "\n",
    "\n",
    "if __name__ == \"__main__\":\n",
    "    start = time.time()\n",
    "\n",
    "    loop = asyncio.get_event_loop()\n",
    "    queries = asyncio.gather(*[query_api() for _ in range(100)])\n",
    "    loop.run_until_complete(queries)\n",
    "    loop.close()\n",
    "\n",
    "    print(time.time() - start)\n"
   ]
  },
  {
   "attachments": {
    "bb86d57a-4604-4165-8811-563b1dad5380.png": {
     "image/png": "[encoded data removed]"
    }
   },
   "cell_type": "markdown",
   "id": "cd754c4f-8a95-471d-a262-a38c458b54f3",
   "metadata": {},
   "source": [
    "Temps d'execution:  \n",
    "![image.png](attachment:bb86d57a-4604-4165-8811-563b1dad5380.png)  \n",
    "Note: puisque la requete elastic est toujours la même, elastic garde en cache les données. "
   ]
  },
  {
   "cell_type": "markdown",
   "id": "6006a753-b625-422b-b201-df269a8a87bb",
   "metadata": {},
   "source": [
    "# Passage en asynchrone\n",
    "Pour bien comprendre le mécanisme d'asynchrone, voir l'excellente [doc fastAPI](https://fastapi.tiangolo.com/async/)  \n",
    "On va maintenant adapter notre code pour profiter de l'asynchrone dans python, qui est géré par fastAPI (et starlette, derrière).\n",
    "On commence par créér un nouveau main_async.py:"
   ]
  },
  {
   "cell_type": "code",
   "execution_count": null,
   "id": "c2629475-5f36-4d73-acb7-d40c6baffc52",
   "metadata": {},
   "outputs": [],
   "source": [
    "# main_async.py\n",
    "from datetime import datetime\n",
    "\n",
    "from fastapi import FastAPI\n",
    "from pydantic import BaseModel\n",
    "\n",
    "from tp_fast_api.data_collect import extract_ecrans_async\n",
    "\n",
    "\n",
    "class Users(BaseModel):\n",
    "    utils: list[str]\n",
    "    date_min: datetime\n",
    "    date_max: datetime\n",
    "\n",
    "\n",
    "app = FastAPI(debug=True)\n",
    "\n",
    "\n",
    "@app.post(\"/get_ecrans/\")\n",
    "async def get_ecrans(users: Users):\n",
    "    ecrans = await extract_ecrans_async(users.utils, users.date_min, users.date_max)\n",
    "    return {\"ecrans\": ecrans}"
   ]
  },
  {
   "cell_type": "markdown",
   "id": "bb9fd86c-0ba0-43ed-8681-fe382794fe58",
   "metadata": {},
   "source": [
    "On ajoute au settings.py une connexion asynchrone à elastic:"
   ]
  },
  {
   "cell_type": "code",
   "execution_count": 11,
   "id": "3dbf4f95-36e9-4445-b3e6-56506b8d5617",
   "metadata": {
    "collapsed": true,
    "jupyter": {
     "outputs_hidden": true
    },
    "tags": []
   },
   "outputs": [
    {
     "ename": "NameError",
     "evalue": "name 'AsyncElasticsearch' is not defined",
     "output_type": "error",
     "traceback": [
      "\u001b[0;31m---------------------------------------------------------------------------\u001b[0m",
      "\u001b[0;31mNameError\u001b[0m                                 Traceback (most recent call last)",
      "\u001b[0;32m<ipython-input-11-f58dc9c58d1b>\u001b[0m in \u001b[0;36m<module>\u001b[0;34m\u001b[0m\n\u001b[1;32m      1\u001b[0m \u001b[0;31m# settings.py\u001b[0m\u001b[0;34m\u001b[0m\u001b[0;34m\u001b[0m\u001b[0;34m\u001b[0m\u001b[0m\n\u001b[1;32m      2\u001b[0m \u001b[0;31m#...\u001b[0m\u001b[0;34m\u001b[0m\u001b[0;34m\u001b[0m\u001b[0;34m\u001b[0m\u001b[0m\n\u001b[0;32m----> 3\u001b[0;31m ES_ASYNC = AsyncElasticsearch(\n\u001b[0m\u001b[1;32m      4\u001b[0m     \u001b[0mhosts\u001b[0m\u001b[0;34m=\u001b[0m\u001b[0;34m[\u001b[0m\u001b[0mURL_ELASTIC_PROD\u001b[0m\u001b[0;34m]\u001b[0m\u001b[0;34m,\u001b[0m\u001b[0;34m\u001b[0m\u001b[0;34m\u001b[0m\u001b[0m\n\u001b[1;32m      5\u001b[0m     \u001b[0mrequest_timeout\u001b[0m\u001b[0;34m=\u001b[0m\u001b[0;36m30\u001b[0m\u001b[0;34m,\u001b[0m\u001b[0;34m\u001b[0m\u001b[0;34m\u001b[0m\u001b[0m\n",
      "\u001b[0;31mNameError\u001b[0m: name 'AsyncElasticsearch' is not defined"
     ]
    }
   ],
   "source": [
    "# settings.py\n",
    "from elasticsearch import Elasticsearch, AsyncElasticsearch\n",
    "\n",
    "# ...\n",
    "\n",
    "ES_ASYNC = AsyncElasticsearch(\n",
    "    hosts=[URL_ELASTIC_PROD],\n",
    "    request_timeout=30,\n",
    "    api_key=(credentials[\"ES_PROD_ID\"], credentials[\"ES_PROD_API_KEY\"]),\n",
    ")"
   ]
  },
  {
   "cell_type": "markdown",
   "id": "874f4533-9ed2-40de-b453-4c1a2dda5944",
   "metadata": {},
   "source": [
    "On ajoute à data_collect.py une fonction de collecte des ecrans asynchrone:"
   ]
  },
  {
   "cell_type": "code",
   "execution_count": null,
   "id": "a15dca60-581f-48e6-a0d0-9c1c911c6c2a",
   "metadata": {},
   "outputs": [],
   "source": [
    "# data_collect.py\n",
    "\n",
    "# ...\n",
    "\n",
    "async def extract_ecrans_async(\n",
    "    utils: list[str], date_min: datetime, date_max: datetime\n",
    "):\n",
    "    query = {\n",
    "        \"query\": {\n",
    "            \"bool\": {\n",
    "                \"must\": [{\"terms\": {\"util\": utils}}],\n",
    "                \"filter\": [\n",
    "                    {\n",
    "                        \"range\": {\n",
    "                            \"@timestamp\": {\n",
    "                                \"gte\": date_min.isoformat(),\n",
    "                                \"lte\": date_max.isoformat(),\n",
    "                                \"format\": \"strict_date_optional_time\",\n",
    "                            }\n",
    "                        }\n",
    "                    }\n",
    "                ],\n",
    "            }\n",
    "        }\n",
    "    }\n",
    "\n",
    "    data = []\n",
    "    async for doc in helpers.async_scan(\n",
    "        settings.ES_ASYNC, index=\"mon_index\", query=query\n",
    "    ):\n",
    "        doc = doc[\"_source\"]\n",
    "\n",
    "        elt = [\n",
    "            doc.get(\"@timestamp\"],\n",
    "            doc.get(\"util\"),\n",
    "            doc.get(\"ecran\"),\n",
    "            doc.get(\"instance\")\n",
    "        ]\n",
    "        data.append(elt)\n",
    "\n",
    "    return data"
   ]
  },
  {
   "attachments": {
    "5c1f59a3-4433-4177-87c1-d73ce6973918.png": {
     "image/png": "[encoded data removed]"
    }
   },
   "cell_type": "markdown",
   "id": "6a070021-d9b6-4abb-99f1-9e9a2e5c4972",
   "metadata": {},
   "source": [
    "Si on lance notre petit scrip de benchmark, on obtient:  \n",
    "![image.png](attachment:5c1f59a3-4433-4177-87c1-d73ce6973918.png)  \n",
    "Soit une augmentation de 1.5x la vitesse de traitement. En principe sur le papier on devrait plutôt être sur 2-3x dans une utilisation normale (il semblerait), avec des performances comparables à ce que peut donner un node express par exemple, et nettement plus que django ou flask.\n",
    "Pour plus d'infos, voir [ici](https://christophergs.com/tutorials/ultimate-fastapi-tutorial-pt-9-asynchronous-performance-basics/)"
   ]
  },
  {
   "cell_type": "markdown",
   "id": "7e331447-2204-48da-90ab-6b26544555c3",
   "metadata": {},
   "source": [
    "# Tests unitaires en asynchrone\n",
    "Utiliser pytest de maniere classique ne nous permet pas de tester les fonctions asynchrones.  \n",
    "Pour ce faire, on commence par installer le package suivant:\n",
    "```\n",
    "poetry add pytest-asyncio\n",
    "```"
   ]
  },
  {
   "cell_type": "code",
   "execution_count": null,
   "id": "ea5cc2e9-1457-48a0-b333-8501905c4341",
   "metadata": {},
   "outputs": [],
   "source": [
    "# test_data_collect.py\n",
    "import pytest\n",
    "\n",
    "@pytest.mark.asyncio # permet de tester une fonction asynchrone\n",
    "@patch(\"tp_fast_api.data_collect.helpers.async_scan\")\n",
    "async def test_extract_ecrans_async(mock_scan): # on a un await dans le corps de la fonction, on doit donc la mettre en async\n",
    "    mock_scan.return_value = AsyncIteratorMock(\n",
    "        [\n",
    "            {\n",
    "                \"_index\": \"mon_index\",\n",
    "                \"_type\": \"_doc\",\n",
    "                \"_id\": \"1660119206971bdcad61d5b\",\n",
    "                \"_score\": 2.0,\n",
    "                \"_source\": {\n",
    "                    \"ecran\": \"connexion\",\n",
    "                    \"instance\": \"instance589\",\n",
    "                    \"@timestamp\": 1660119206971,\n",
    "                    \"util\": \"romain\"\n",
    "                },\n",
    "            }\n",
    "        ]\n",
    "    )\n",
    "\n",
    "    results = await extract_ecrans_async([\"romain\"], datetime.now(), datetime.now())\n",
    "\n",
    "    assert len(results) == 1\n",
    "    assert results[0][1] == \"romain\""
   ]
  },
  {
   "attachments": {
    "781f1299-9937-4597-acab-1b211e64191e.png": {
     "image/png": "[encoded data removed]"
    }
   },
   "cell_type": "markdown",
   "id": "722821fe-7385-4c08-9786-03401589c10e",
   "metadata": {},
   "source": [
    "![image.png](attachment:781f1299-9937-4597-acab-1b211e64191e.png)  \n",
    "On remarque qu'on utilise un objet AsyncIteratorMock.  \n",
    "En effet, extract_ecrans_async est une fonction de la forme \"async for ...\", qui necessite d'iterer sur un object possédant la méthode \"\\_\\_aiter\\_\\_()\", ce qui n'est pas le cas de MagicMock (qu'on obtient grâce au @patch).  \n",
    "On crée donc une classe qui encapsule ce comportement, à laquelle on fournit les données sur lesquelles nous souhaitons itérer (trouvé [ici](https://stackoverflow.com/questions/36695256/python-asyncio-how-to-mock-aiter-method)):"
   ]
  },
  {
   "cell_type": "code",
   "execution_count": null,
   "id": "1cb07930-c06e-41c4-b3ca-9f9d08cb6437",
   "metadata": {},
   "outputs": [],
   "source": [
    "class AsyncIteratorMock:\n",
    "    def __init__(self, data):\n",
    "        self.iter = iter(data)\n",
    "\n",
    "    def __aiter__(self):\n",
    "        return self\n",
    "\n",
    "    async def __anext__(self):\n",
    "        try:\n",
    "            return next(self.iter)\n",
    "        except StopIteration:\n",
    "            raise StopAsyncIteration"
   ]
  },
  {
   "cell_type": "markdown",
   "id": "ee3bc6f1-530a-4472-bf29-124ff47e5cf0",
   "metadata": {},
   "source": [
    "# Traitement IA\n",
    "Nous allons maintenant rajouter un traitement sur ces données, pour les clusteriser et obtenir des **sessions d'interactions**, delimités par un debut et une fin, plutot que d'avoir la donnée brut plus difficile à interpréter. Nous utiliserons l'algorithme [hdbscan](http://vulgairedev.fr/blog/article/clustering-hdbscan).\n",
    "\n",
    "```\n",
    "poetry add joblib==1.1.0 hdbscan\n",
    "```\n",
    "NB: Au moment d'écriture de ce notebook, il y a y un conflit entre joblib et hdbscan sous windows, il faut donc [specifier une version anterieure](https://stackoverflow.com/questions/73830225/init-got-an-unexpected-keyword-argument-cachedir-when-importing-top2vec)\n",
    "\n",
    "Cette fois-ci commençons par écrire le test d'abord :"
   ]
  },
  {
   "cell_type": "code",
   "execution_count": 12,
   "id": "9b02da03-064a-4875-a3ca-aae04068e501",
   "metadata": {
    "collapsed": true,
    "jupyter": {
     "outputs_hidden": true
    },
    "tags": []
   },
   "outputs": [
    {
     "ename": "ModuleNotFoundError",
     "evalue": "No module named 'tp_fast_api'",
     "output_type": "error",
     "traceback": [
      "\u001b[0;31m---------------------------------------------------------------------------\u001b[0m",
      "\u001b[0;31mModuleNotFoundError\u001b[0m                       Traceback (most recent call last)",
      "\u001b[0;32m<ipython-input-12-143c4000f1bb>\u001b[0m in \u001b[0;36m<module>\u001b[0;34m\u001b[0m\n\u001b[1;32m      1\u001b[0m \u001b[0;31m# test_compute_sessions.py\u001b[0m\u001b[0;34m\u001b[0m\u001b[0;34m\u001b[0m\u001b[0;34m\u001b[0m\u001b[0m\n\u001b[0;32m----> 2\u001b[0;31m \u001b[0;32mfrom\u001b[0m \u001b[0mtp_fast_api\u001b[0m\u001b[0;34m.\u001b[0m\u001b[0mcompute_sessions\u001b[0m \u001b[0;32mimport\u001b[0m \u001b[0mcompute_sessions\u001b[0m\u001b[0;34m\u001b[0m\u001b[0;34m\u001b[0m\u001b[0m\n\u001b[0m\u001b[1;32m      3\u001b[0m \u001b[0;34m\u001b[0m\u001b[0m\n\u001b[1;32m      4\u001b[0m \u001b[0;34m\u001b[0m\u001b[0m\n\u001b[1;32m      5\u001b[0m \u001b[0;32mdef\u001b[0m \u001b[0mtest_compute_sessions\u001b[0m\u001b[0;34m(\u001b[0m\u001b[0;34m)\u001b[0m\u001b[0;34m:\u001b[0m\u001b[0;34m\u001b[0m\u001b[0;34m\u001b[0m\u001b[0m\n",
      "\u001b[0;31mModuleNotFoundError\u001b[0m: No module named 'tp_fast_api'"
     ]
    }
   ],
   "source": [
    "# test_compute_sessions.py\n",
    "from tp_fast_api.compute_sessions import compute_sessions\n",
    "\n",
    " \n",
    "def test_compute_sessions():\n",
    "    data = [\n",
    "       [\"1\", \"romain\", \"instance\"], \n",
    "       [\"2\", \"romain\", \"instance\"], \n",
    "       [\"6\", \"romain\", \"instance\"], \n",
    "       [\"10\", \"romain\", \"instance\"], \n",
    "       [\"12\", \"romain\", \"instance\"], \n",
    "       [\"13\", \"romain\", \"instance\"], \n",
    "       [\"18\", \"anes\", \"instance\"],\n",
    "       [\"19\", \"anes\", \"instance\"] \n",
    "    ]\n",
    "\n",
    "    data_cluster = compute_sessions(data)\n",
    "    assert len(data_cluster) == 2"
   ]
  },
  {
   "cell_type": "markdown",
   "id": "26af8356-8009-4281-9082-c19c02fa7ea4",
   "metadata": {},
   "source": [
    "On va maintenant ecrire la fonction qui, pour une liste de données telle que retournée par extract_ecrans_async(), va nous clusteriser les données, et nous retourner une liste de dictionnaires, ayant chacun un debut, une fin, une instance et une personne."
   ]
  },
  {
   "cell_type": "code",
   "execution_count": null,
   "id": "a33e09d2-c568-4d1c-b06c-4eae936479ba",
   "metadata": {},
   "outputs": [],
   "source": [
    "# compute_sessions.py\n",
    "import pandas as pd\n",
    "import hdbscan\n",
    "\n",
    "import tp_fast_api.settings as settings\n",
    "\n",
    "\n",
    "def compute_sessions(data: list[list]) -> pd.DataFrame:\n",
    "    df = pd.DataFrame(\n",
    "        data=data,\n",
    "        columns=[\"@timestamp\", \"personne\", \"instance\"],\n",
    "    )\n",
    "\n",
    "    clusterer = hdbscan.HDBSCAN(min_cluster_size=settings.CLUSTER_MIN_POINTS)\n",
    "\n",
    "    windows = []\n",
    "    for _, group in df.groupby(\"personne\"):\n",
    "        # hdbscan pour un seul point semble nous mettre une erreur\n",
    "        if len(group) > 1:\n",
    "            group[\"cluster\"] = clusterer.fit_predict(\n",
    "                group[\"@timestamp\"].array.reshape(-1, 1)\n",
    "            )\n",
    "        else:\n",
    "            group[\"cluster\"] = -1\n",
    "\n",
    "        group = group[group[\"cluster\"] >= 0]  # on supprime le bruit\n",
    "        for _, cluster_group in group.groupby(\"cluster\"):\n",
    "            new_data = {\n",
    "                \"debut\": cluster_group[\"@timestamp\"].min(),\n",
    "                \"fin\": cluster_group[\"@timestamp\"].max(),\n",
    "                \"instance\": cluster_group.at[cluster_group.index[0], \"instance\"],\n",
    "                \"personne\": cluster_group.at[cluster_group.index[0], \"personne\"],\n",
    "            }\n",
    "            windows.append(new_data)\n",
    "\n",
    "    return windows"
   ]
  },
  {
   "cell_type": "markdown",
   "id": "d8228da4-554f-4e11-8b91-b26036828010",
   "metadata": {},
   "source": [
    "Plus qu'à mettre à jour main_async:"
   ]
  },
  {
   "cell_type": "code",
   "execution_count": null,
   "id": "bfeb3ecc-c527-4f61-afb7-7e220c332a1d",
   "metadata": {},
   "outputs": [],
   "source": [
    "# main_async.py\n",
    "from datetime import datetime\n",
    "\n",
    "from fastapi import FastAPI\n",
    "from pydantic import BaseModel\n",
    "\n",
    "from tp_fast_api.data_collect import extract_ecrans_async\n",
    "from tp_fast_api.compute_sessions import compute_sessions\n",
    "\n",
    "class Users(BaseModel):\n",
    "    utils: list[str]\n",
    "    date_min: datetime\n",
    "    date_max: datetime\n",
    "\n",
    "\n",
    "app = FastAPI(debug=True)\n",
    "\n",
    "\n",
    "@app.post(\"/get_ecrans/\")\n",
    "async def get_ecrans(users: Users):\n",
    "    ecrans = await extract_ecrans_async(users.utils, users.date_min, users.date_max)\n",
    "    sessions = compute_sessions(ecrans)\n",
    "    return {\"session\": sessions}\n",
    "\n"
   ]
  },
  {
   "cell_type": "markdown",
   "id": "b85e0be4-d52a-4298-84ab-6f4eba762d4f",
   "metadata": {},
   "source": [
    "Et on obtient bien un service qui nous permet, pour des parametres spécifiés, d'obtenir une donnée raffinée, mieux exploitable pour le metier. On pourrait ensuite faire une dataviz avec, calculer d'autres métriques à partir de cette information, etc.  \n",
    "Pour la mise en production, plusieurs possibilités, voir la doc de [fastAPI](https://fastapi.tiangolo.com/deployment/) "
   ]
  },
  {
   "cell_type": "markdown",
   "id": "a10bbcdc-5ca4-4626-8b4a-190c80b9e836",
   "metadata": {},
   "source": [
    "# Gestion du format de sortie\n",
    "Pour finir, on va specifier grâce à pydantic le format de sortie, qui nous permettra d'eviter les erreurs de convertion de type dans la construction de la reponse, ainsi que mieux documenter notre api:"
   ]
  },
  {
   "cell_type": "code",
   "execution_count": null,
   "id": "151698e5-06b9-41cc-b4a0-1eae05799fb8",
   "metadata": {},
   "outputs": [],
   "source": [
    "# main_async\n",
    "from datetime import datetime\n",
    "\n",
    "from fastapi import FastAPI\n",
    "from pydantic import BaseModel\n",
    "\n",
    "from tp_fast_api.data_collect import extract_ecrans, extract_ecrans_async\n",
    "from tp_fast_api.compute_sessions import compute_sessions\n",
    "\n",
    "app = FastAPI(debug=True)\n",
    "\n",
    "\n",
    "class Users(BaseModel):\n",
    "    utils: list[str]\n",
    "    date_min: datetime\n",
    "    date_max: datetime\n",
    "\n",
    "\n",
    "class Session(BaseModel):\n",
    "    debut: datetime\n",
    "    fin: datetime\n",
    "    instance: str\n",
    "    personne: str\n",
    "\n",
    "\n",
    "class OutResponse(BaseModel):\n",
    "    sessions: list[Session]\n",
    "\n",
    "\n",
    "@app.post(\"/get_ecrans/\", response_model=OutResponse) \n",
    "async def get_ecrans(users: Users):\n",
    "    ecrans = await extract_ecrans_async(users.utils, users.date_min, users.date_max)\n",
    "    sessions = await compute_sessions(ecrans)\n",
    "    return {\"sessions\": sessions}"
   ]
  },
  {
   "cell_type": "markdown",
   "id": "a855fb5c-f463-4ca4-ab19-21d4933e0b72",
   "metadata": {},
   "source": [
    "# Typage des données d'elastic\n",
    "\n",
    "Apres reflexion, on se rend compte que le typage des données qui sortent d'elastic est important lui aussi: sans celui-ci, certains champs texte du type \"01\" pourront être malencrontreusement transformé en float ou int. \n",
    "Pour régler ce probleme, on pourrait utiliser [elasticsearch-dsl](https://elasticsearch-dsl.readthedocs.io/en/latest/), cependant celui-ci ne fonctionne pas en asynchrone.\n",
    "On peut donc utiliser directement pydantic, par exemple:"
   ]
  },
  {
   "cell_type": "code",
   "execution_count": null,
   "id": "fc675282-f6f3-41a0-a1c9-e6445b830ff0",
   "metadata": {},
   "outputs": [],
   "source": [
    "# data_collect.py\n",
    "from datetime import datetime\n",
    "\n",
    "from pydantic import BaseModel\n",
    "from elasticsearch import helpers\n",
    "\n",
    "import tp_fast_api.settings as settings\n",
    "\n",
    "class Ecran(BaseModel):\n",
    "    ecran: str\n",
    "    instance: str \n",
    "    timestamp: datetime\n",
    "    util: str\n",
    "\n",
    "    \n",
    "async def extract_ecrans_async(utils: list[str], date_min: datetime, date_max: datetime):\n",
    "    query = {\n",
    "        \"query\": {\n",
    "            \"bool\": {\n",
    "                \"must\": [{\"terms\": {\"util\": utils}}],\n",
    "                \"filter\": [\n",
    "                    {\n",
    "                        \"range\": {\n",
    "                            \"@timestamp\": {\n",
    "                                \"gte\": date_min.isoformat(),\n",
    "                                \"lte\": date_max.isoformat(),\n",
    "                                \"format\": \"strict_date_optional_time\",\n",
    "                            }\n",
    "                        }\n",
    "                    }\n",
    "                ],\n",
    "            }\n",
    "        }\n",
    "    }\n",
    "\n",
    "    data = []\n",
    "    async for doc in helpers.async_scan(settings.ES_ASYNC, index=\"mon_index\", query=query):\n",
    "        doc = doc[\"_source\"]\n",
    "        doc_parsed = Ecran(**doc, timestamp=doc[\"@timestamp\"])\n",
    "        elt = [\n",
    "            doc_parsed.ecran,\n",
    "            doc_parsed.timestamp,\n",
    "            doc_parsed.util,\n",
    "            doc_parsed.instance,\n",
    "        ]\n",
    "        data.append(elt)\n",
    "\n",
    "    return data"
   ]
  },
  {
   "cell_type": "markdown",
   "id": "1c1d7009-532a-4877-84ed-c8fa58f85f9c",
   "metadata": {},
   "source": [
    "NB: pour être plus propre, mieux vaut mettre les modeles de données pydantic à part dans un module modeles.py"
   ]
  },
  {
   "cell_type": "code",
   "execution_count": null,
   "id": "9b52bed8-b049-4b57-a5ec-8052b2280f75",
   "metadata": {},
   "outputs": [],
   "source": []
  }
 ],
 "metadata": {
  "kernelspec": {
   "display_name": "data_science",
   "language": "python",
   "name": "data_science"
  },
  "language_info": {
   "codemirror_mode": {
    "name": "ipython",
    "version": 3
   },
   "file_extension": ".py",
   "mimetype": "text/x-python",
   "name": "python",
   "nbconvert_exporter": "python",
   "pygments_lexer": "ipython3",
   "version": "3.7.10"
  }
 },
 "nbformat": 4,
 "nbformat_minor": 5
}
